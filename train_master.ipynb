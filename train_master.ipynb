{
 "cells": [
  {
   "cell_type": "code",
   "execution_count": 1,
   "metadata": {
    "collapsed": false
   },
   "outputs": [],
   "source": [
    "require 'xlua'\n",
    "require 'optim'\n",
    "require 'image'\n",
    "-- require 'cunn'\n",
    "dofile 'provider.lua'"
   ]
  },
  {
   "cell_type": "code",
   "execution_count": 2,
   "metadata": {
    "collapsed": true
   },
   "outputs": [],
   "source": [
    "p = Provider()"
   ]
  },
  {
   "cell_type": "code",
   "execution_count": 4,
   "metadata": {
    "collapsed": false
   },
   "outputs": [
    {
     "data": {
      "text/plain": [
       " 10000\n",
       "[torch.LongStorage of size 1]\n",
       "\n"
      ]
     },
     "execution_count": 4,
     "metadata": {},
     "output_type": "execute_result"
    }
   ],
   "source": [
    "p.valData.label:size()"
   ]
  },
  {
   "cell_type": "code",
   "execution_count": 11,
   "metadata": {
    "collapsed": false
   },
   "outputs": [],
   "source": [
    "a = torch.rand(p.valData:size(), 4)"
   ]
  },
  {
   "cell_type": "code",
   "execution_count": 34,
   "metadata": {
    "collapsed": false
   },
   "outputs": [],
   "source": [
    "T = 10\n",
    "norms = torch.sum(torch.exp(torch.div(a,T)), 2):view(p.valData:size(), 1):expandAs(a)\n",
    "probs = torch.cdiv(torch.exp(torch.div(a,T)), norms)"
   ]
  },
  {
   "cell_type": "code",
   "execution_count": 2,
   "metadata": {
    "collapsed": false,
    "scrolled": true
   },
   "outputs": [
    {
     "data": {
      "text/plain": [
       "Provider already exists.\t\n"
      ]
     },
     "execution_count": 2,
     "metadata": {},
     "output_type": "execute_result"
    }
   ],
   "source": [
    "--> Check if data provider already exists\n",
    "local f = io.open('master/master_provider.t7', \"r\")\n",
    "if f~=nil then \n",
    "    print('Provider already exists.')\n",
    "    io.close(f)\n",
    "else \n",
    "    --> Load, normalize and save data\n",
    "    provider = Provider()\n",
    "    provider:normalize()\n",
    "    torch.save('master/master_provider.t7', provider)\n",
    "end"
   ]
  },
  {
   "cell_type": "code",
   "execution_count": null,
   "metadata": {
    "collapsed": false
   },
   "outputs": [
    {
     "data": {
      "text/plain": [
       "PARAMETERS\t\n",
       "{\n",
       "  gpu : false\n",
       "  checkpoint : 10\n",
       "  learningRate : 1\n",
       "  online : false\n",
       "  momentum : 0.9\n",
       "  epoch_step : 25\n",
       "  backend : nn\n",
       "  learningRateDecay : 1e-07\n",
       "  model : model\n",
       "  save : logs\n",
       "  weightDecay : 0.0005\n",
       "  batchSize : 128\n",
       "  max_epoch : 50\n",
       "}\n",
       "\u001b[0;34m==>\u001b[0m configuring model\t\n"
      ]
     },
     "execution_count": 3,
     "metadata": {},
     "output_type": "execute_result"
    },
    {
     "data": {
      "text/plain": [
       "\u001b[0;34m==>\u001b[0m loading data\t\n"
      ]
     },
     "execution_count": 3,
     "metadata": {},
     "output_type": "execute_result"
    },
    {
     "data": {
      "text/plain": [
       "Will save at logs\t\n"
      ]
     },
     "execution_count": 3,
     "metadata": {},
     "output_type": "execute_result"
    },
    {
     "data": {
      "text/plain": [
       "\u001b[0;34m==>\u001b[0m setting criterion\t\n",
       "\u001b[0;34m==>\u001b[0m configuring optimizer\t\n",
       "\u001b[0;34m==>\u001b[0m online epoch # 1 [batchSize = 128]\t\n"
      ]
     },
     "execution_count": 3,
     "metadata": {},
     "output_type": "execute_result"
    },
    {
     "data": {
      "text/plain": [
       "Progress: 2 / 312\t\n"
      ]
     },
     "execution_count": 3,
     "metadata": {},
     "output_type": "execute_result"
    },
    {
     "data": {
      "text/plain": [
       "Progress: 3 / 312\t\n"
      ]
     },
     "execution_count": 3,
     "metadata": {},
     "output_type": "execute_result"
    }
   ],
   "source": [
    "-- Train model\n",
    "dofile('master/train.lua')"
   ]
  },
  {
   "cell_type": "code",
   "execution_count": null,
   "metadata": {
    "collapsed": true
   },
   "outputs": [],
   "source": []
  }
 ],
 "metadata": {
  "kernelspec": {
   "display_name": "iTorch",
   "language": "lua",
   "name": "itorch"
  },
  "language_info": {
   "name": "lua",
   "version": "5.1"
  }
 },
 "nbformat": 4,
 "nbformat_minor": 0
}
