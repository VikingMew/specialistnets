{
 "cells": [
  {
   "cell_type": "code",
   "execution_count": null,
   "metadata": {
    "collapsed": false
   },
   "outputs": [],
   "source": [
    "require 'xlua'\n",
    "require 'optim'\n",
    "require 'image'\n",
    "-- require 'cunn'\n",
    "dofile 'provider.lua'"
   ]
  },
  {
   "cell_type": "code",
   "execution_count": null,
   "metadata": {
    "collapsed": false,
    "scrolled": true
   },
   "outputs": [],
   "source": [
    "--> Check if data provider already exists\n",
    "local f = io.open('master/master_provder.t7', \"r\")\n",
    "if f~=nil then \n",
    "    io.close(f)\n",
    "else \n",
    "    --> Load, normalize and save data\n",
    "    provider = Provider()\n",
    "    provider:normalize()\n",
    "    torch.save('master/master_provider.t7', provider)\n",
    "end"
   ]
  },
  {
   "cell_type": "code",
   "execution_count": null,
   "metadata": {
    "collapsed": false
   },
   "outputs": [],
   "source": [
    "-- Train model\n",
    "dofile('master/train.lua')"
   ]
  }
 ],
 "metadata": {
  "kernelspec": {
   "display_name": "iTorch",
   "language": "lua",
   "name": "itorch"
  },
  "language_info": {
   "name": "lua",
   "version": "5.1"
  }
 },
 "nbformat": 4,
 "nbformat_minor": 0
}
