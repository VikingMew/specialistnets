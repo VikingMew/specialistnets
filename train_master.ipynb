{
 "cells": [
  {
   "cell_type": "code",
   "execution_count": 1,
   "metadata": {
    "collapsed": false
   },
   "outputs": [],
   "source": [
    "require 'xlua'\n",
    "require 'optim'\n",
    "require 'image'\n",
    "-- require 'cunn'\n",
    "dofile 'provider.lua'"
   ]
  },
  {
   "cell_type": "code",
   "execution_count": 2,
   "metadata": {
    "collapsed": false,
    "scrolled": true
   },
   "outputs": [
    {
     "data": {
      "text/plain": [
       "<trainer> preprocessing data (color space + normalization)\t\n"
      ]
     },
     "execution_count": 2,
     "metadata": {},
     "output_type": "execute_result"
    },
    {
     "data": {
      "text/plain": [
       "Progress: 19473 / 40000\t\n"
      ]
     },
     "execution_count": 2,
     "metadata": {},
     "output_type": "execute_result"
    },
    {
     "data": {
      "text/plain": [
       "Progress: 1 / 10000\t\n"
      ]
     },
     "execution_count": 2,
     "metadata": {},
     "output_type": "execute_result"
    }
   ],
   "source": [
    "--> Check if data provider already exists\n",
    "local f = io.open('master/master_provider.t7', \"r\")\n",
    "if 1==2 and f~=nil then \n",
    "    print('Provider already exists.')\n",
    "    io.close(f)\n",
    "else \n",
    "    --> Load, normalize and save data\n",
    "    provider = Provider()\n",
    "    provider:normalize()\n",
    "    torch.save('master/master_provider.t7', provider)\n",
    "end"
   ]
  },
  {
   "cell_type": "code",
   "execution_count": null,
   "metadata": {
    "collapsed": false
   },
   "outputs": [
    {
     "data": {
      "text/plain": [
       "PARAMETERS\t\n",
       "{\n",
       "  gpu : false\n",
       "  learningRate : 1\n",
       "  online : false\n",
       "  momentum : 0.9\n",
       "  epoch_step : 25\n",
       "  backend : nn\n",
       "  learningRateDecay : 1e-07\n",
       "  model : model\n",
       "  save : logs\n",
       "  weightDecay : 0.0005\n",
       "  batchSize : 128\n",
       "  max_epoch : 50\n",
       "}\n",
       "\u001b[0;34m==>\u001b[0m configuring model\t\n"
      ]
     },
     "execution_count": 3,
     "metadata": {},
     "output_type": "execute_result"
    },
    {
     "data": {
      "text/plain": [
       "nn.Sequential {\n",
       "  [input -> (1) -> (2) -> (3) -> output]\n",
       "  (1): nn.BatchFlip\n",
       "  (2): nn.Copy\n",
       "  (3): nn.Sequential {\n",
       "    [input -> (1) -> (2) -> (3) -> (4) -> (5) -> (6) -> (7) -> (8) -> (9) -> (10) -> (11) -> (12) -> (13) -> (14) -> (15) -> (16) -> (17) -> (18) -> (19) -> (20) -> (21) -> (22) -> (23) -> (24) -> (25) -> (26) -> (27) -> (28) -> (29) -> (30) -> (31) -> (32) -> (33) -> (34) -> (35) -> (36) -> (37) -> (38) -> (39) -> (40) -> (41) -> (42) -> (43) -> (44) -> (45) -> (46) -> (47) -> (48) -> (49) -> (50) -> (51) -> (52) -> (53) -> (54) -> (55) -> (56) -> (57) -> (58) -> (59) -> output]\n",
       "    (1): nn.SpatialConvolution(3 -> 64, 3x3, 1,1, 1,1)\n",
       "    (2): nn.SpatialBatchNormalization\n",
       "    (3): nn.ReLU\n",
       "    (4): nn.Dropout(0.300000)\n",
       "    (5): nn.SpatialConvolution(64 -> 64, 3x3, 1,1, 1,1)\n",
       "    (6): nn.SpatialBatchNormalization\n",
       "    (7): nn.ReLU\n",
       "    (8): nn.SpatialMaxPooling(2,2,2,2)\n",
       "    (9): nn.SpatialConvolution(64 -> 128, 3x3, 1,1, 1,1)\n",
       "    (10): nn.SpatialBatchNormalization\n",
       "    (11): nn.ReLU\n",
       "    (12): nn.Dropout(0.400000)\n",
       "    (13): nn.SpatialConvolution(128 -> 128, 3x3, 1,1, 1,1)\n",
       "    (14): nn.SpatialBatchNormalization\n",
       "    (15): nn.ReLU\n",
       "    (16): nn.SpatialMaxPooling(2,2,2,2)\n",
       "    (17): nn.SpatialConvolution(128 -> 256, 3x3, 1,1, 1,1)\n",
       "    (18): nn.SpatialBatchNormalization\n",
       "    (19): nn.ReLU\n",
       "    (20): nn.Dropout(0.400000)\n",
       "    (21): nn.SpatialConvolution(256 -> 256, 3x3, 1,1, 1,1)\n",
       "    (22): nn.SpatialBatchNormalization\n",
       "    (23): nn.ReLU\n",
       "    (24): nn.Dropout(0.400000)\n",
       "    (25): nn.SpatialConvolution(256 -> 256, 3x3, 1,1, 1,1)\n",
       "    (26): nn.SpatialBatchNormalization\n",
       "    (27): nn.ReLU\n",
       "    (28): nn.SpatialMaxPooling(2,2,2,2)\n",
       "    (29): nn.SpatialConvolution(256 -> 512, 3x3, 1,1, 1,1)\n",
       "    (30): nn.SpatialBatchNormalization\n",
       "    (31): nn.ReLU\n",
       "    (32): nn.Dropout(0.400000)\n",
       "    (33): nn.SpatialConvolution(512 -> 512, 3x3, 1,1, 1,1)\n",
       "    (34): nn.SpatialBatchNormalization\n",
       "    (35): nn.ReLU\n",
       "    (36): nn.Dropout(0.400000)\n",
       "    (37): nn.SpatialConvolution(512 -> 512, 3x3, 1,1, 1,1)\n",
       "    (38): nn.SpatialBatchNormalization\n",
       "    (39): nn.ReLU\n",
       "    (40): nn.SpatialMaxPooling(2,2,2,2)\n",
       "    (41): nn.SpatialConvolution(512 -> 512, 3x3, 1,1, 1,1)\n",
       "    (42): nn.SpatialBatchNormalization\n",
       "    (43): nn.ReLU\n",
       "    (44): nn.Dropout(0.400000)\n",
       "    (45): nn.SpatialConvolution(512 -> 512, 3x3, 1,1, 1,1)\n",
       "    (46): nn.SpatialBatchNormalization\n",
       "    (47): nn.ReLU\n",
       "    (48): nn.Dropout(0.400000)\n",
       "    (49): nn.SpatialConvolution(512 -> 512, 3x3, 1,1, 1,1)\n",
       "    (50): nn.SpatialBatchNormalization\n",
       "    (51): nn.ReLU\n",
       "    (52): nn.SpatialMaxPooling(2,2,2,2)\n",
       "    (53): nn.View(512)\n",
       "    (54): nn.Dropout(0.500000)\n",
       "    (55): nn.Linear(512 -> 512)\n",
       "    (56): nn.BatchNormalization\n",
       "    (57): nn.ReLU\n",
       "    (58): nn.Dropout(0.500000)\n",
       "    (59): nn.Linear(512 -> 100)\n",
       "  }\n",
       "}\n",
       "{\n",
       "  gradInput : FloatTensor - empty\n",
       "  modules : \n",
       "    {\n",
       "      1 : \n",
       "        nn.BatchFlip\n",
       "        {\n",
       "          gradInput : FloatTensor - empty\n",
       "          train : true\n",
       "          output : FloatTensor - empty\n",
       "        }\n",
       "      2 : \n",
       "        nn.Copy\n",
       "        {\n",
       "          gradInput : FloatTensor - empty\n",
       "          updateOutput : function: 0x0ca5d738\n",
       "          updateGradInput : function: 0x0cb36f40\n",
       "          output : FloatTensor - empty\n",
       "        }\n",
       "      3 : \n"
      ]
     },
     "execution_count": 3,
     "metadata": {},
     "output_type": "execute_result"
    },
    {
     "data": {
      "text/plain": [
       "        nn.Sequential {\n",
       "          [input -> (1) -> (2) -> (3) -> (4) -> (5) -> (6) -> (7) -> (8) -> (9) -> (10) -> (11) -> (12) -> (13) -> (14) -> (15) -> (16) -> (17) -> (18) -> (19) -> (20) -> (21) -> (22) -> (23) -> (24) -> (25) -> (26) -> (27) -> (28) -> (29) -> (30) -> (31) -> (32) -> (33) -> (34) -> (35) -> (36) -> (37) -> (38) -> (39) -> (40) -> (41) -> (42) -> (43) -> (44) -> (45) -> (46) -> (47) -> (48) -> (49) -> (50) -> (51) -> (52) -> (53) -> (54) -> (55) -> (56) -> (57) -> (58) -> (59) -> output]\n",
       "          (1): nn.SpatialConvolution(3 -> 64, 3x3, 1,1, 1,1)\n",
       "          (2): nn.SpatialBatchNormalization\n",
       "          (3): nn.ReLU\n",
       "          (4): nn.Dropout(0.300000)\n",
       "          (5): nn.SpatialConvolution(64 -> 64, 3x3, 1,1, 1,1)\n",
       "          (6): nn.SpatialBatchNormalization\n",
       "          (7): nn.ReLU\n",
       "          (8): nn.SpatialMaxPooling(2,2,2,2)\n",
       "          (9): nn.SpatialConvolution(64 -> 128, 3x3, 1,1, 1,1)\n",
       "          (10): nn.SpatialBatchNormalization\n",
       "          (11): nn.ReLU\n",
       "          (12): nn.Dropout(0.400000)\n",
       "          (13): nn.SpatialConvolution(128 -> 128, 3x3, 1,1, 1,1)\n",
       "          (14): nn.SpatialBatchNormalization\n",
       "          (15): nn.ReLU\n",
       "          (16): nn.SpatialMaxPooling(2,2,2,2)\n",
       "          (17): nn.SpatialConvolution(128 -> 256, 3x3, 1,1, 1,1)\n",
       "          (18): nn.SpatialBatchNormalization\n",
       "          (19): nn.ReLU\n",
       "          (20): nn.Dropout(0.400000)\n",
       "          (21): nn.SpatialConvolution(256 -> 256, 3x3, 1,1, 1,1)\n",
       "          (22): nn.SpatialBatchNormalization\n",
       "          (23): nn.ReLU\n",
       "          (24): nn.Dropout(0.400000)\n",
       "          (25): nn.SpatialConvolution(256 -> 256, 3x3, 1,1, 1,1)\n",
       "          (26): nn.SpatialBatchNormalization\n",
       "          (27): nn.ReLU\n",
       "          (28): nn.SpatialMaxPooling(2,2,2,2)\n",
       "          (29): nn.SpatialConvolution(256 -> 512, 3x3, 1,1, 1,1)\n",
       "          (30): nn.SpatialBatchNormalization\n",
       "          (31): nn.ReLU\n",
       "          (32): nn.Dropout(0.400000)\n",
       "          (33): nn.SpatialConvolution(512 -> 512, 3x3, 1,1, 1,1)\n",
       "          (34): nn.SpatialBatchNormalization\n",
       "          (35): nn.ReLU\n",
       "          (36): nn.Dropout(0.400000)\n",
       "          (37): nn.SpatialConvolution(512 -> 512, 3x3, 1,1, 1,1)\n",
       "          (38): nn.SpatialBatchNormalization\n",
       "          (39): nn.ReLU\n",
       "          (40): nn.SpatialMaxPooling(2,2,2,2)\n",
       "          (41): nn.SpatialConvolution(512 -> 512, 3x3, 1,1, 1,1)\n",
       "          (42): nn.SpatialBatchNormalization\n",
       "          (43): nn.ReLU\n",
       "          (44): nn.Dropout(0.400000)\n",
       "          (45): nn.SpatialConvolution(512 -> 512, 3x3, 1,1, 1,1)\n",
       "          (46): nn.SpatialBatchNormalization\n",
       "          (47): nn.ReLU\n",
       "          (48): nn.Dropout(0.400000)\n",
       "          (49): nn.SpatialConvolution(512 -> 512, 3x3, 1,1, 1,1)\n",
       "          (50): nn.SpatialBatchNormalization\n",
       "          (51): nn.ReLU\n",
       "          (52): nn.SpatialMaxPooling(2,2,2,2)\n",
       "          (53): nn.View(512)\n",
       "          (54): nn.Dropout(0.500000)\n",
       "          (55): nn.Linear(512 -> 512)\n",
       "          (56): nn.BatchNormalization\n",
       "          (57): nn.ReLU\n",
       "          (58): nn.Dropout(0.500000)\n",
       "          (59): nn.Linear(512 -> 100)\n",
       "        }\n",
       "        {\n",
       "          gradInput : FloatTensor - empty\n",
       "          modules : \n",
       "            {\n",
       "              1 : \n",
       "                nn.SpatialConvolution(3 -> 64, 3x3, 1,1, 1,1)\n",
       "                {\n",
       "                  dH : 1\n",
       "                  dW : 1\n",
       "                  nOutputPlane : 64\n",
       "                  output : FloatTensor - empty\n",
       "                  gradInput : FloatTensor - empty\n",
       "                  gradBias : FloatTensor - size: 64\n",
       "                  padH : 1\n",
       "                  weight : FloatTensor - size: 64x3x3x3\n",
       "                  bias : FloatTensor - size: 64\n",
       "                  gradWeight : FloatTensor - size: 64x3x3x3\n",
       "                  padW : 1\n",
       "   "
      ]
     },
     "execution_count": 3,
     "metadata": {},
     "output_type": "execute_result"
    },
    {
     "data": {
      "text/plain": [
       "               nInputPlane : 3\n",
       "                  kW : 3\n",
       "                  kH : 3\n",
       "                }\n",
       "              2 : \n",
       "                nn.SpatialBatchNormalization\n",
       "                {\n",
       "                  gradBias : FloatTensor - size: 64\n",
       "                  output : FloatTensor - empty\n",
       "                  gradInput : FloatTensor - empty\n",
       "                  running_var : FloatTensor - size: 64\n",
       "                  momentum : 0.1\n",
       "                  eps : 0.001\n",
       "                  train : true\n",
       "                  affine : true\n",
       "                  running_mean : FloatTensor - size: 64\n",
       "                  gradWeight : FloatTensor - size: 64\n",
       "                  bias : FloatTensor - size: 64\n",
       "                  weight : FloatTensor - size: 64\n",
       "                }\n",
       "              3 : \n",
       "                nn.ReLU\n",
       "                {\n"
      ]
     },
     "execution_count": 3,
     "metadata": {},
     "output_type": "execute_result"
    },
    {
     "data": {
      "text/plain": [
       "                  inplace : true\n"
      ]
     },
     "execution_count": 3,
     "metadata": {},
     "output_type": "execute_result"
    },
    {
     "data": {
      "text/plain": [
       "                  threshold : 0\n",
       "                  val : 0\n",
       "                  output : FloatTensor - empty\n",
       "                  gradInput : FloatTensor - empty\n",
       "   "
      ]
     },
     "execution_count": 3,
     "metadata": {},
     "output_type": "execute_result"
    },
    {
     "data": {
      "text/plain": [
       "             "
      ]
     },
     "execution_count": 3,
     "metadata": {},
     "output_type": "execute_result"
    },
    {
     "data": {
      "text/plain": [
       "}\n",
       "              4 : \n",
       "            "
      ]
     },
     "execution_count": 3,
     "metadata": {},
     "output_type": "execute_result"
    },
    {
     "data": {
      "text/plain": [
       "    "
      ]
     },
     "execution_count": 3,
     "metadata": {},
     "output_type": "execute_result"
    },
    {
     "data": {
      "text/plain": [
       "nn.Dropout(0.300000)\n",
       "                {\n",
       "                  v2 : true\n",
       "                  noise : FloatTensor - empty\n",
       "                  train : true\n",
       "                  p : 0.3\n",
       "                  "
      ]
     },
     "execution_count": 3,
     "metadata": {},
     "output_type": "execute_result"
    },
    {
     "data": {
      "text/plain": [
       "gradInput : FloatTensor - empty\n",
       "                  output : FloatTensor - empty\n",
       "                }\n",
       "              5 : \n",
       "                nn.SpatialConvolution(64 -> 64, 3x3, 1,1, 1,1)\n",
       "                {\n",
       "                  dH : 1\n",
       "                  dW : 1\n",
       "                  nOutputPlane : 64\n",
       "                  output : FloatTensor - empty\n",
       "                  gradInput : FloatTensor - empty\n",
       "                  gradBias : FloatTensor - size: 64\n",
       "                  padH : 1\n",
       "                  weight : FloatTensor - size: 64x64x3x3\n",
       "                  bias : FloatTensor - size: 64\n",
       "                  gradWeight : FloatTensor - size: 64x64x3x3\n",
       "                  padW : 1\n",
       "                  nInputPlane : 64\n",
       "                  kW : 3\n",
       "                  kH : 3\n",
       "      "
      ]
     },
     "execution_count": 3,
     "metadata": {},
     "output_type": "execute_result"
    },
    {
     "data": {
      "text/plain": [
       "          }\n",
       "              6 : \n",
       "                nn.SpatialBatchNormalization\n",
       "                {\n",
       "                  gradBias : FloatTensor - size: 64\n",
       "                  output : FloatTensor - empty\n",
       "                  gradInput : FloatTensor - empty\n",
       "                  running_var : FloatTensor - size: 64\n",
       "                  momentum : 0.1\n",
       "                  eps : 0.001\n",
       "                  train : true\n",
       "                  affine : true\n",
       "                  running_mean : FloatTensor - size: 64\n",
       "                  gradWeight : FloatTensor - size: 64\n",
       "                  bias : FloatTensor - size: 64\n",
       "                  weight : FloatTensor - size: 64\n",
       "                }\n",
       "              7 : \n",
       "                nn.ReLU\n",
       "                {\n"
      ]
     },
     "execution_count": 3,
     "metadata": {},
     "output_type": "execute_result"
    },
    {
     "data": {
      "text/plain": [
       "        "
      ]
     },
     "execution_count": 3,
     "metadata": {},
     "output_type": "execute_result"
    },
    {
     "data": {
      "text/plain": [
       "          inplace : true\n",
       "                  threshold : 0\n",
       "                  val : 0\n",
       "                  output : FloatTensor - empty\n",
       "                  gradInput : FloatTensor - empty\n",
       "                }\n",
       "              8 : \n",
       "                nn.SpatialMaxPooling(2,2,2,2)\n",
       "                {\n",
       "                  dH : 2\n",
       "                  dW : 2\n",
       "                  padH : 0\n",
       "                  gradInput : FloatTensor - empty\n",
       "                  indices : FloatTensor - empty\n",
       "                  kH : 2\n",
       "                  ceil_mode : true\n",
       "                  output : FloatTensor - empty\n",
       "                  padW : 0\n",
       "                  kW : 2\n",
       "                }\n",
       "              9 : \n",
       "                "
      ]
     },
     "execution_count": 3,
     "metadata": {},
     "output_type": "execute_result"
    },
    {
     "data": {
      "text/plain": [
       "nn.SpatialConvolution(64 -> 128, 3x3, 1,1, 1,1)\n",
       "                {\n",
       "                  dH : 1\n",
       "                  dW : 1\n",
       "                  nOutputPlane : 128\n",
       "                  output : FloatTensor - empty\n",
       "                  gradInput : FloatTensor - empty\n",
       "                  gradBias : FloatTensor - size: 128\n",
       "                  padH : 1\n",
       "                  weight : FloatTensor - size: 128x64x3x3\n",
       "                  bias : FloatTensor - size: 128\n",
       "                  gradWeight : FloatTensor - size: 128x64x3x3\n",
       "                  padW : 1\n",
       "                  nInputPlane : 64\n",
       "                  kW : 3\n",
       "                  kH : 3\n",
       "                }\n",
       "     "
      ]
     },
     "execution_count": 3,
     "metadata": {},
     "output_type": "execute_result"
    },
    {
     "data": {
      "text/plain": [
       "         10 : \n",
       "                nn.SpatialBatchNormalization\n",
       "                {\n",
       "                  gradBias : FloatTensor - size: 128\n",
       "                  output : FloatTensor - empty\n",
       "                  gradInput : FloatTensor - empty\n",
       "                  running_var : FloatTensor - size: 128\n",
       "                  momentum : 0.1\n",
       "                  eps : 0.001\n",
       "                  train : true\n",
       "                  affine : true\n",
       "                  running_mean : FloatTensor - size: 128\n",
       "                  gradWeight : FloatTensor - size: 128\n",
       "                  bias : FloatTensor - size: 128\n",
       "                  weight : FloatTensor - size: 128\n",
       "                }\n",
       "              11 : \n",
       "                nn.ReLU\n",
       "                {\n",
       "                  "
      ]
     },
     "execution_count": 3,
     "metadata": {},
     "output_type": "execute_result"
    },
    {
     "data": {
      "text/plain": [
       "inplace : true\n"
      ]
     },
     "execution_count": 3,
     "metadata": {},
     "output_type": "execute_result"
    },
    {
     "data": {
      "text/plain": [
       "                  threshold : 0\n",
       "                  val : 0\n",
       "                  output : FloatTensor - empty\n",
       "                  gradInput : FloatTensor - empty\n",
       "                }\n",
       "              12 : \n",
       "                nn.Dropout(0.400000)\n",
       "                {\n",
       "                  v2 : true\n",
       "                  noise : FloatTensor - empty\n",
       "                  train : true\n",
       "                  p : 0.4\n",
       "                  gradInput : FloatTensor - empty\n",
       "                  output : FloatTensor - empty\n",
       "                }\n",
       "              13 : \n",
       "                nn.SpatialConvolution(128 -> 128, 3x3, 1,1, 1,1)\n",
       "               "
      ]
     },
     "execution_count": 3,
     "metadata": {},
     "output_type": "execute_result"
    },
    {
     "data": {
      "text/plain": [
       " "
      ]
     },
     "execution_count": 3,
     "metadata": {},
     "output_type": "execute_result"
    },
    {
     "data": {
      "text/plain": [
       "{\n"
      ]
     },
     "execution_count": 3,
     "metadata": {},
     "output_type": "execute_result"
    },
    {
     "data": {
      "text/plain": [
       "                  "
      ]
     },
     "execution_count": 3,
     "metadata": {},
     "output_type": "execute_result"
    },
    {
     "data": {
      "text/plain": [
       "dH : 1\n",
       "                  dW : 1\n",
       "                  nOutputPlane : 128\n"
      ]
     },
     "execution_count": 3,
     "metadata": {},
     "output_type": "execute_result"
    },
    {
     "data": {
      "text/plain": [
       "                  output : FloatTensor - empty\n",
       "                  gradInput : FloatTensor - empty\n"
      ]
     },
     "execution_count": 3,
     "metadata": {},
     "output_type": "execute_result"
    },
    {
     "data": {
      "text/plain": [
       "                  gradBias : FloatTensor - size: 128\n",
       "                  padH : 1\n",
       "                  weight : FloatTensor - size: 128x128x3x3\n",
       "                  bias : FloatTensor - size: 128\n",
       "                  gradWeight : FloatTensor - size: 128x128x3x3\n",
       "                  padW : 1\n",
       "                  nInputPlane : 128\n",
       "                  kW : 3\n",
       "                  kH : 3\n",
       "                }\n",
       "              14 : \n",
       "                nn.SpatialBatchNormalization\n",
       "                {\n",
       "                  gradBias : FloatTensor - size: 128\n",
       "                  output : FloatTensor - empty\n",
       "                  gradInput : FloatTensor - empty\n",
       "                  running_var : FloatTensor - size: 128\n",
       "                  momentum : 0.1\n",
       "                  eps : 0.001\n",
       "                  train : true\n",
       "                  affine : true\n",
       "  "
      ]
     },
     "execution_count": 3,
     "metadata": {},
     "output_type": "execute_result"
    },
    {
     "data": {
      "text/plain": [
       "                running_mean : FloatTensor - size: 128\n"
      ]
     },
     "execution_count": 3,
     "metadata": {},
     "output_type": "execute_result"
    },
    {
     "data": {
      "text/plain": [
       "                  gradWeight : FloatTensor - size: 128\n",
       "                  bias : FloatTensor - size: 128\n",
       "                  weight : FloatTensor - size: 128\n",
       "                }\n",
       "              15 : \n",
       "                nn.ReLU\n",
       "                {\n",
       "                  inplace : true\n",
       "                  threshold : 0\n",
       "                  val : 0\n",
       "                  output : FloatTensor - empty\n",
       "                  gradInput : FloatTensor - empty\n",
       "                }\n",
       "              16 : \n",
       "                nn.SpatialMaxPooling(2,2,2,2)\n",
       "                {\n",
       "                  dH : 2\n",
       "                  dW : 2\n",
       "                  padH : 0\n",
       "              "
      ]
     },
     "execution_count": 3,
     "metadata": {},
     "output_type": "execute_result"
    },
    {
     "data": {
      "text/plain": [
       "    gradInput : FloatTensor - empty\n",
       "                  indices : FloatTensor - empty\n",
       "                  kH : 2\n",
       "                  ceil_mode : true\n",
       "   "
      ]
     },
     "execution_count": 3,
     "metadata": {},
     "output_type": "execute_result"
    },
    {
     "data": {
      "text/plain": [
       "               "
      ]
     },
     "execution_count": 3,
     "metadata": {},
     "output_type": "execute_result"
    },
    {
     "data": {
      "text/plain": [
       "output : FloatTensor - empty\n"
      ]
     },
     "execution_count": 3,
     "metadata": {},
     "output_type": "execute_result"
    },
    {
     "data": {
      "text/plain": [
       "                  padW : 0\n",
       "                  kW : 2\n",
       "                }\n",
       "              17 : \n",
       "   "
      ]
     },
     "execution_count": 3,
     "metadata": {},
     "output_type": "execute_result"
    },
    {
     "data": {
      "text/plain": [
       "             nn.SpatialConvolution(128 -> 256, 3x3, 1,1, 1,1)\n",
       "                {\n"
      ]
     },
     "execution_count": 3,
     "metadata": {},
     "output_type": "execute_result"
    },
    {
     "data": {
      "text/plain": [
       "                  dH : 1\n",
       "                  dW : 1\n"
      ]
     },
     "execution_count": 3,
     "metadata": {},
     "output_type": "execute_result"
    },
    {
     "data": {
      "text/plain": [
       "                  nOutputPlane : 256\n",
       "                  output : FloatTensor - empty\n"
      ]
     },
     "execution_count": 3,
     "metadata": {},
     "output_type": "execute_result"
    },
    {
     "data": {
      "text/plain": [
       "                  gradInput : FloatTensor - empty\n"
      ]
     },
     "execution_count": 3,
     "metadata": {},
     "output_type": "execute_result"
    },
    {
     "data": {
      "text/plain": [
       "                  gradBias : FloatTensor - size: 256"
      ]
     },
     "execution_count": 3,
     "metadata": {},
     "output_type": "execute_result"
    },
    {
     "data": {
      "text/plain": [
       "\n",
       "                  padH : 1\n",
       "                  weight : FloatTensor - size: 256x128x3x3\n",
       "                  bias : FloatTensor - size: 256\n",
       "                  gradWeight : FloatTensor - size: 256x128x3x3\n",
       "                  padW : 1\n",
       "                  nInputPlane : 128\n",
       "                  kW : 3\n",
       "                  kH : 3\n",
       "                }\n",
       "              18 : \n",
       "                nn.SpatialBatchNormalization\n",
       "                {\n",
       "                  gradBias : FloatTensor - size: 256\n",
       "                  output : FloatTensor - empty\n",
       "                  gradInput : FloatTensor - empty\n",
       "                  running_var : FloatTensor - size: 256\n",
       "                  momentum : 0.1\n",
       "                  eps : 0.001\n",
       "                  train : true\n",
       "                  affine : true\n",
       "                  running_mean : FloatTensor - size: 256\n"
      ]
     },
     "execution_count": 3,
     "metadata": {},
     "output_type": "execute_result"
    },
    {
     "data": {
      "text/plain": [
       "                  gradWeight : FloatTensor - size: 256\n",
       "                  bias : FloatTensor - size: 256\n",
       "                  weight : FloatTensor - size: 256\n",
       "                }\n",
       "              19 : \n",
       "                nn.ReLU\n",
       "                {\n",
       "                  inplace : true\n",
       "                  threshold : 0\n",
       "                  val : 0\n",
       "                  output : FloatTensor - empty\n",
       "                  gradInput : FloatTensor - empty\n",
       "                }\n",
       "              20 : \n",
       "                nn.Dropout(0.400000)\n",
       "                {\n",
       "                  v2 : true\n",
       "                  noise : FloatTensor - empty\n",
       "                  train : true\n",
       "                  p : 0.4\n",
       "                  gradInput : FloatTensor - empty\n",
       "                  output : FloatTensor - empty\n",
       "             "
      ]
     },
     "execution_count": 3,
     "metadata": {},
     "output_type": "execute_result"
    },
    {
     "data": {
      "text/plain": [
       "   "
      ]
     },
     "execution_count": 3,
     "metadata": {},
     "output_type": "execute_result"
    },
    {
     "data": {
      "text/plain": [
       "}\n",
       "              21 : \n",
       "                nn.SpatialConvolution(256 -> 256, 3x3, 1,1, 1,1)\n",
       "                {\n"
      ]
     },
     "execution_count": 3,
     "metadata": {},
     "output_type": "execute_result"
    },
    {
     "data": {
      "text/plain": [
       "                  dH : 1\n",
       "              "
      ]
     },
     "execution_count": 3,
     "metadata": {},
     "output_type": "execute_result"
    },
    {
     "data": {
      "text/plain": [
       "    dW : 1\n",
       "                  nOutputPlane : 256\n"
      ]
     },
     "execution_count": 3,
     "metadata": {},
     "output_type": "execute_result"
    },
    {
     "data": {
      "text/plain": [
       "                  output : FloatTensor - empty\n",
       "                  gradInput : FloatTensor - empty\n",
       "                  gradBias : FloatTensor - size: 256\n",
       "                  padH : 1\n",
       "          "
      ]
     },
     "execution_count": 3,
     "metadata": {},
     "output_type": "execute_result"
    },
    {
     "data": {
      "text/plain": [
       "        weight : FloatTensor - size: 256x256x3x3\n",
       "                  bias : FloatTensor - size: 256\n",
       "                  gradWeight : FloatTensor - size: 256x256x3x3\n",
       " "
      ]
     },
     "execution_count": 3,
     "metadata": {},
     "output_type": "execute_result"
    },
    {
     "data": {
      "text/plain": [
       "                 padW : 1\n",
       "         "
      ]
     },
     "execution_count": 3,
     "metadata": {},
     "output_type": "execute_result"
    },
    {
     "data": {
      "text/plain": [
       "         nInputPlane : 256\n",
       "                "
      ]
     },
     "execution_count": 3,
     "metadata": {},
     "output_type": "execute_result"
    },
    {
     "data": {
      "text/plain": [
       "  kW : 3\n",
       "                  kH : 3\n",
       "                }\n",
       "              22 : \n",
       "                nn.SpatialBatchNormalization\n",
       "                {\n",
       "                  "
      ]
     },
     "execution_count": 3,
     "metadata": {},
     "output_type": "execute_result"
    },
    {
     "data": {
      "text/plain": [
       "gradBias : FloatTensor - size: 256\n",
       "                  output : FloatTensor - empty\n",
       "                 "
      ]
     },
     "execution_count": 3,
     "metadata": {},
     "output_type": "execute_result"
    },
    {
     "data": {
      "text/plain": [
       " gradInput : FloatTensor - empty\n",
       "                  running_var : FloatTensor - size: 256\n",
       "                  momentum : 0.1\n",
       "                  eps : 0.001\n",
       "                  train : true\n",
       "                  affine : true\n",
       "                  running_mean : FloatTensor - size: 256\n",
       "                  gradWeight : FloatTensor - size: 256\n",
       "                  bias : FloatTensor - size: 256\n",
       "                  weight : FloatTensor - size: 256\n",
       "                }\n",
       "              23 : \n",
       "                nn.ReLU\n",
       "                {\n",
       "                  inplace : true\n",
       "                  threshold : 0\n",
       "                  val : 0\n",
       "                  output : FloatTensor - empty\n",
       "                  gradInput : FloatTensor - empty\n",
       "                }\n",
       "              24 : \n",
       "                nn.Dropout(0.400000)\n",
       "       "
      ]
     },
     "execution_count": 3,
     "metadata": {},
     "output_type": "execute_result"
    },
    {
     "data": {
      "text/plain": [
       "         {\n",
       "                "
      ]
     },
     "execution_count": 3,
     "metadata": {},
     "output_type": "execute_result"
    },
    {
     "data": {
      "text/plain": [
       "  v2 : true\n",
       "                  noise : FloatTensor - empty\n",
       "                  train : true\n",
       "                  p : 0.4\n",
       "                  gradInput : FloatTensor - empty\n"
      ]
     },
     "execution_count": 3,
     "metadata": {},
     "output_type": "execute_result"
    },
    {
     "data": {
      "text/plain": [
       "                  output : FloatTensor - empty\n",
       "                }\n",
       "              25 : \n",
       "                nn.SpatialConvolution(256 -> 256, 3x3, 1,1, 1,1)\n",
       "                {\n",
       "                  dH : 1\n",
       "                  dW : 1\n",
       "                  nOutputPlane : 256\n",
       "                  output : FloatTensor - empty\n",
       "                  gradInput : FloatTensor - empty\n",
       "                  gradBias : FloatTensor - size: 256\n",
       "                  padH : 1\n",
       "                  weight : FloatTensor - size: 256x256x3x3\n",
       "                  bias : FloatTensor - size: 256\n",
       "                  gradWeight : FloatTensor - size: 256x256x3x3\n",
       "                  padW : 1\n",
       "                  nInputPlane : 256\n",
       "                  kW : 3\n",
       "                  kH : 3\n",
       "                }\n",
       "   "
      ]
     },
     "execution_count": 3,
     "metadata": {},
     "output_type": "execute_result"
    },
    {
     "data": {
      "text/plain": [
       "           26 : \n",
       "              "
      ]
     },
     "execution_count": 3,
     "metadata": {},
     "output_type": "execute_result"
    },
    {
     "data": {
      "text/plain": [
       "  nn.SpatialBatchNormalization\n",
       "                {\n",
       "                  gradBias : FloatTensor - size: 256\n",
       "                  output : FloatTensor - empty\n",
       "                  gradInput : FloatTensor - empty\n",
       "                  running_var : FloatTensor - size: 256\n",
       "                  momentum : 0.1\n",
       "                  eps : 0.001\n",
       "                  train : true\n",
       "                  affine : true\n",
       "                  running_mean : FloatTensor - size: 256\n",
       "                  gradWeight : FloatTensor - size: 256\n",
       "                  bias : FloatTensor - size: 256\n",
       "                  weight : FloatTensor - size: 256\n",
       "                }\n",
       "              27 : \n",
       "                nn.ReLU\n",
       "                {\n",
       "                  inplace : true\n",
       "                  threshold : 0\n",
       "                  val : 0\n",
       "       "
      ]
     },
     "execution_count": 3,
     "metadata": {},
     "output_type": "execute_result"
    },
    {
     "data": {
      "text/plain": [
       "           output : FloatTensor - empty\n",
       "                  gradInput : FloatTensor - empty\n",
       "                }\n",
       "              28 : \n",
       "                nn.SpatialMaxPooling(2,2,2,2)\n",
       "                {\n",
       "                  dH : 2\n",
       "                  dW : 2\n",
       "                  padH : 0\n",
       "                  gradInput : FloatTensor - empty\n",
       "                  indices : FloatTensor - empty\n",
       "                  kH : 2\n",
       "                  ceil_mode : true\n",
       "                  output : FloatTensor - empty\n",
       "                  padW : 0\n",
       "                  kW : 2\n",
       "                }\n",
       "              29 : \n",
       "                nn.SpatialConvolution(256 -> 512, 3x3, 1,1, 1,1)\n",
       "                {\n",
       "                  dH : 1\n",
       "                  dW : 1"
      ]
     },
     "execution_count": 3,
     "metadata": {},
     "output_type": "execute_result"
    },
    {
     "data": {
      "text/plain": [
       "\n",
       "                  nOutputPlane : 512\n",
       "                  output : FloatTensor - empty\n",
       "                  gradInput : FloatTensor - empty\n",
       "                  gradBias : FloatTensor - size: 512\n",
       "                  padH : 1\n",
       "                  weight : FloatTensor - size: 512x256x3x3\n",
       "                  bias : FloatTensor - size: 512\n",
       "                  gradWeight : FloatTensor - size: 512x256x3x3\n",
       "                  padW : 1\n",
       "                  nInputPlane : 256\n",
       "                  kW : 3\n",
       "                  kH : 3\n",
       "                }\n",
       "              30 : \n",
       "                nn.SpatialBatchNormalization\n",
       "                {\n",
       "                  gradBias : FloatTensor - size: 512\n",
       "                  output : FloatTensor - empty"
      ]
     },
     "execution_count": 3,
     "metadata": {},
     "output_type": "execute_result"
    },
    {
     "data": {
      "text/plain": [
       "\n",
       "                  gradInput : FloatTensor - empty\n",
       "                  running_var : FloatTensor - size: 512\n",
       "                  momentum : 0.1\n",
       "                  eps : 0.001\n",
       "                  train : true\n",
       "                  affine : true\n",
       "                  running_mean : FloatTensor - size: 512\n",
       "                  gradWeight : FloatTensor - size: 512\n",
       "                  bias : FloatTensor - size: 512\n",
       "                  weight : FloatTensor - size: 512\n",
       "                }\n",
       "              31 : \n",
       "                nn.ReLU\n",
       "                {\n",
       "                  inplace : true\n",
       "                  threshold : 0\n",
       "                  val : 0\n",
       "         "
      ]
     },
     "execution_count": 3,
     "metadata": {},
     "output_type": "execute_result"
    },
    {
     "data": {
      "text/plain": [
       "         output : FloatTensor - empty\n",
       " "
      ]
     },
     "execution_count": 3,
     "metadata": {},
     "output_type": "execute_result"
    },
    {
     "data": {
      "text/plain": [
       "  "
      ]
     },
     "execution_count": 3,
     "metadata": {},
     "output_type": "execute_result"
    },
    {
     "data": {
      "text/plain": [
       "               gradInput : FloatTensor - empty\n",
       "                }\n",
       "     "
      ]
     },
     "execution_count": 3,
     "metadata": {},
     "output_type": "execute_result"
    },
    {
     "data": {
      "text/plain": [
       "         32 : \n",
       "                nn.Dropout(0.400000)\n",
       "                {\n",
       "                  v2 : true\n",
       "                  noise : FloatTensor - empty\n",
       "                  train : true\n",
       "                  p : 0.4\n",
       "                  gradInput : FloatTensor - empty\n",
       "                  output : FloatTensor - empty\n",
       "                }\n",
       "              33 : \n",
       "                nn.SpatialConvolution(512 -> 512, 3x3, 1,1, 1,1)\n",
       "                {\n",
       "                  dH : 1\n",
       "                  dW : 1\n",
       "                  nOutputPlane : 512\n",
       "                  output : FloatTensor - empty\n",
       "                  gradInput : FloatTensor - empty\n",
       "                  gradBias : FloatTensor - size: 512\n",
       "                  padH : 1\n",
       "                  weight : FloatTensor - size: 512x512x3x3\n",
       "                  bias : FloatTensor - size: 512\n",
       "                  gradWeight : FloatTensor - size: 512x512x3x3\n",
       "                  padW : 1\n",
       "                  nInputPlane : 512\n",
       "                  kW : 3\n",
       "                  kH : 3\n",
       "                }\n",
       "              34 : \n",
       "                nn.SpatialBatchNormalization\n",
       "                {\n",
       "                  gradBias : FloatTensor - size: 512\n",
       "                  output : FloatTensor - empty\n",
       "                  gradInput : FloatTensor - empty\n",
       "                  running_var : FloatTensor - size: 512\n",
       "                  momentum : 0.1\n",
       "                  eps : 0.001\n",
       "                  train : true\n",
       "                  affine : true\n",
       "                  running_mean : FloatTensor - size: 512\n",
       "                  gradWeight : FloatTensor - size: 512\n",
       "                  bias : FloatTensor - size: 512\n",
       "                  weight : FloatTensor - size: 512\n",
       "                }\n",
       "              35 : \n",
       "                nn.ReLU\n",
       "                {\n",
       "                  inplace : true\n",
       "                  threshold : 0\n",
       "                  val : 0\n",
       "                  output : FloatTensor - empty\n",
       "                  gradInput : FloatTensor - empty\n",
       "                }\n",
       "              36 : \n",
       "                nn.Dropout(0.400000)\n",
       "                {\n",
       "                  v2 : true\n",
       "                  noise : FloatTensor - empty\n",
       "                  train : true\n",
       "                  p : 0.4\n",
       "                  gradInput : FloatTensor - empty\n",
       "                  output : FloatTensor - empty\n",
       "                }\n",
       "              37 : \n",
       "                nn.SpatialConvolution(512 -> 512, 3x3, 1,1, 1,1)\n",
       "                {\n",
       "                  dH : 1\n",
       "                  dW : 1\n",
       "                  nOutputPlane : 512\n",
       "                  output : FloatTensor - empty\n",
       "                  gradInput : FloatTensor - empty\n",
       "                  gradBias : FloatTensor - size: 512\n",
       "                  padH : 1\n",
       "                  weight : FloatTensor - size: 512x512x3x3\n",
       "                  bias : FloatTensor - size: 512\n",
       "                  gradWeight : FloatTensor - size: 512x512x3x3\n",
       "                  padW : 1\n",
       "                  nInputPlane : 512\n",
       "                  kW : 3\n",
       "                  kH : 3\n",
       "                }\n",
       "              38 : \n",
       "                nn.SpatialBatchNormalization\n",
       "                {\n",
       "                  gradBias : FloatTensor - size: 512\n",
       "                  output : FloatTensor - empty\n",
       "                  gradInput : FloatTensor - empty\n",
       "                  running_var : FloatTensor - size: 512\n",
       "                  momentum : 0.1\n",
       "                  eps : 0.001\n",
       "                  train : true\n",
       "                  affine : true\n",
       "                  running_mean : FloatTensor - size: 512\n",
       "                  gradWeight : FloatTensor - size: 512\n",
       "                  bias : FloatTensor - size: 512\n",
       "                  weight : FloatTensor - size: 512\n",
       "                }\n",
       "              39 : \n",
       "                nn.ReLU\n",
       "                {\n",
       "                  inplace : true\n",
       "                  threshold : 0\n",
       "                  val : 0\n",
       "                  output : FloatTensor - empty\n",
       "                  gradInput : FloatTensor - empty\n",
       "                }\n",
       "              40 : \n",
       "                nn.SpatialMaxPooling(2,2,2,2)\n",
       "                {\n",
       "                  dH : 2\n",
       "                  dW : 2\n",
       "                  padH : 0\n",
       "                  gradInput : FloatTensor - empty\n",
       "                  indices : FloatTensor - empty\n",
       "                  kH : 2\n",
       "           "
      ]
     },
     "execution_count": 3,
     "metadata": {},
     "output_type": "execute_result"
    },
    {
     "data": {
      "text/plain": [
       "       ceil_mode : true\n",
       "                  output : FloatTensor - empty\n",
       "                  padW : 0\n",
       "                  kW : 2\n",
       "                }\n",
       "              41 : \n",
       "                nn.SpatialConvolution(512 -> 512, 3x3, 1,1, 1,1)\n",
       "                {\n",
       "                  dH : 1\n",
       "                  dW : 1\n",
       "                  nOutputPlane : 512\n",
       "                  output : FloatTensor - empty\n",
       "                  gradInput : FloatTensor - empty\n",
       "                  gradBias : FloatTensor - size: 512\n",
       "                  padH : 1\n",
       "                  weight : FloatTensor - size: 512x512x3x3\n",
       "                  bias : FloatTensor - size: 512\n",
       "                  gradWeight : FloatTensor - size: 512x512x3x3\n",
       "                  padW : 1\n",
       "                  nInputPlane : 512\n",
       "                  kW : 3\n",
       "                  kH : 3\n",
       "                }\n",
       "              42 : \n",
       "                nn.SpatialBatchNormalization\n",
       "                {\n",
       "                  gradBias : FloatTensor - size: 512\n",
       "                  output : FloatTensor - empty\n",
       "                  gradInput : FloatTensor - empty\n",
       "                  running_var : FloatTensor - size: 512\n",
       "                  momentum : 0.1\n",
       "                  eps : 0.001\n",
       "                  train : true\n",
       "                  affine : true\n",
       "                  running_mean : FloatTensor - size: 512\n",
       "                  gradWeight : FloatTensor - size: 512\n",
       "                  bias : FloatTensor - size: 512\n",
       "                  weight : FloatTensor - size: 512\n",
       "                }\n",
       "              43 : \n",
       "                nn.ReLU\n",
       "                {\n",
       "                  inplace : true\n",
       "                  threshold : 0\n",
       "                  val : 0\n",
       "                  output : FloatTensor - empty\n",
       "                  gradInput : FloatTensor - empty\n",
       "                }\n",
       "              44 : \n",
       "                nn.Dropout(0.400000)\n",
       "                {\n",
       "                  v2 : true\n",
       "                  noise : FloatTensor - empty\n",
       "                  train : true\n",
       "                  p : 0.4\n",
       "                  gradInput : FloatTensor - empty\n",
       "                  output : FloatTensor - empty\n",
       "                }\n",
       "              45 : \n",
       "                nn.SpatialConvolution(512 -> 512, 3x3, 1,1, 1,1)\n",
       "                {\n",
       "                  dH : 1\n",
       "                  dW : 1\n",
       "                  nOutputPlane : 512\n",
       "                  output : FloatTensor - empty\n",
       "                  gradInput : FloatTensor - empty\n",
       "                  gradBias : FloatTensor - size: 512\n",
       "                  padH : 1\n",
       "                  weight : FloatTensor - size: 512x512x3x3\n",
       "                  bias : FloatTensor - size: 512\n",
       "                  gradWeight : FloatTensor - size: 512x512x3x3\n",
       "                  padW : 1\n",
       "                  nInputPlane : 512\n",
       "                  kW : 3\n",
       "                  kH : 3\n",
       "                }\n",
       "              46 : \n",
       "                nn.SpatialBatchNormalization\n",
       "                {\n",
       "                  gradBias : FloatTensor - size: 512\n",
       "                  output : FloatTensor - empty\n",
       "                  gradInput : FloatTensor - empty\n",
       "                  running_var : FloatTensor - size: 512\n",
       "                  momentum : 0.1\n",
       "                  eps : 0.001\n",
       "                  train : true\n",
       "                  affine : true\n",
       "                  running_mean : FloatTensor - size: 512\n",
       "                  gradWeight : FloatTensor - size: 512\n",
       "                  bias : FloatTensor - size: 512\n",
       "                  weight : FloatTensor - size: 512\n",
       "                }\n",
       "              47 : \n",
       "                nn.ReLU\n",
       "                {\n",
       "                  inplace : true\n",
       "                  threshold : 0\n",
       "                  val : 0\n",
       "                  output : FloatTensor - empty\n",
       "                  gradInput : FloatTensor - empty\n",
       "                }\n",
       "              48 : \n",
       "                nn.Dropout(0.400000)\n",
       "                {\n",
       "                  v2 : true\n",
       "                  noise : FloatTensor - empty\n",
       "                  train : true\n",
       "                  p : 0.4\n",
       "                  gradInput : FloatTensor - empty\n",
       "                  output : FloatTensor - empty\n",
       "                }\n",
       "              49 : \n",
       "                nn.SpatialConvolution(512 -> 512, 3x3, 1,1, 1,1)\n",
       "                {\n",
       "                  dH : 1\n",
       "                  dW "
      ]
     },
     "execution_count": 3,
     "metadata": {},
     "output_type": "execute_result"
    },
    {
     "data": {
      "text/plain": [
       ": 1\n",
       "                  nOutputPlane : 512\n",
       "                  output : FloatTensor - empty\n",
       "                  gradInput : FloatTensor - empty\n",
       "                  gradBias : FloatTensor - size: 512\n",
       "                  padH : 1\n",
       "                  weight : FloatTensor - size: 512x512x3x3\n",
       "                  bias : FloatTensor - size: 512\n",
       "                  gradWeight : FloatTensor - size: 512x512x3x3\n",
       "                  padW : 1\n",
       "                  nInputPlane : 512\n",
       "                  kW : 3\n",
       "                  kH : 3\n",
       "                }\n",
       "              50 : \n",
       "                nn.SpatialBatchNormalization\n",
       "                {\n",
       "                  gradBias : FloatTensor - size: 512\n",
       "                  output : FloatTensor - empty\n",
       "                  gradInput : FloatTensor - empty\n",
       "                  running_var : FloatTensor - size: 512\n",
       "                  momentum : 0.1\n",
       "                  eps : 0.001\n",
       "                  train : true\n",
       "                  affine : true\n",
       "                  running_mean : FloatTensor - size: 512\n",
       "                  gradWeight : FloatTensor - size: 512\n",
       "                  bias : FloatTensor - size: 512\n",
       "                  weight : FloatTensor - size: 512\n",
       "                }\n",
       "              51 : \n",
       "                nn.ReLU\n",
       "                {\n",
       "                  inplace : true\n",
       "                  threshold : 0\n",
       "                  val : 0\n",
       "                  output : FloatTensor - empty\n",
       "                  gradInput : FloatTensor - empty\n",
       "                }\n",
       "              52 : \n",
       "                nn.SpatialMaxPooling(2,2,2,2)\n",
       "                {\n",
       "                  dH : 2\n",
       "                  dW : 2\n",
       "                  padH : 0\n",
       "                  gradInput : FloatTensor - empty\n",
       "                  indices : FloatTensor - empty\n",
       "                  kH : 2\n",
       "                  ceil_mode : true\n",
       "                  output : FloatTensor - empty\n",
       "                  padW : 0\n",
       "                  kW : 2\n",
       "                }\n",
       "              53 : \n",
       "                nn.View(512)\n",
       "                {\n",
       "                  size : LongStorage - size: 1\n",
       "                  numElements : 512\n",
       "                }\n",
       "              54 : \n",
       "                nn.Dropout(0.500000)\n",
       "                {\n",
       "                  v2 : true\n",
       "                  noise : FloatTensor - empty\n",
       "                  train : true\n",
       "                  p : 0.5\n",
       "                  gradInput : FloatTensor - empty\n",
       "                  output : FloatTensor - empty\n",
       "                }\n",
       "              55 : \n",
       "                nn.Linear(512 -> 512)\n",
       "                {\n",
       "                  gradBias : FloatTensor - size: 512\n",
       "                  weight : FloatTensor - size: 512x512\n",
       "                  gradWeight : FloatTensor - size: 512x512\n",
       "                  gradInput : FloatTensor - empty\n",
       "                  bias : FloatTensor - size: 512\n",
       "                  output : FloatTensor - empty\n",
       "                }\n",
       "              56 : \n",
       "                nn.BatchNormalization\n",
       "                {\n",
       "                  gradBias : FloatTensor - size: 512\n",
       "                  output : FloatTensor - empty\n",
       "                  gradInput : FloatTensor - empty\n",
       "                  momentum : 0.1\n",
       "                  gradWeight : FloatTensor - size: 512\n",
       "                  eps : 1e-05\n",
       "                  train : true\n",
       "                  affine : true\n",
       "                  running_mean : FloatTensor - size: 512\n",
       "                  bias : FloatTensor - size: 512\n",
       "                  running_std : FloatTensor - size: 512\n",
       "                  weight : FloatTensor - size: 512\n",
       "                }\n",
       "              57 : \n",
       "                nn.ReLU\n",
       "                {\n",
       "                  inplace : true\n",
       "                  threshold : 0\n",
       "                  val : 0\n",
       "                  output : FloatTensor - empty\n",
       "                  gradInput : FloatTensor - empty\n",
       "                }\n",
       "              58 : \n",
       "                nn.Dropout(0.500000)\n",
       "                {\n",
       "                  v2 : true\n",
       "                  noise : FloatTensor - empty\n",
       "                  train : true\n",
       "                  p : 0.5\n",
       "                  gradInput : FloatTensor - empty\n",
       "                  output : FloatTensor - empty\n",
       "                }\n",
       "              59 : \n",
       "                nn.Linear(512 -> 100)\n",
       "                {\n",
       "                  gradBias :"
      ]
     },
     "execution_count": 3,
     "metadata": {},
     "output_type": "execute_result"
    },
    {
     "data": {
      "text/plain": [
       " FloatTensor - size: 100\n",
       "                  weight : FloatTensor - size: 100x512\n",
       "                  gradWeight : FloatTensor - size: 100x512\n",
       "                  gradInput : FloatTensor - empty\n",
       "                  bias : FloatTensor - size: 100\n",
       "                  output : FloatTensor - empty\n",
       "                }\n",
       "            }\n",
       "          output : FloatTensor - empty\n",
       "        }\n",
       "    }\n",
       "  output : FloatTensor - empty\n",
       "}\n",
       "\u001b[0;34m==>\u001b[0m loading data\t\n"
      ]
     },
     "execution_count": 3,
     "metadata": {},
     "output_type": "execute_result"
    },
    {
     "data": {
      "text/plain": [
       "Will save at logs\t\n"
      ]
     },
     "execution_count": 3,
     "metadata": {},
     "output_type": "execute_result"
    },
    {
     "data": {
      "text/plain": [
       "\u001b[0;34m==>\u001b[0m setting criterion\t\n",
       "\u001b[0;34m==>\u001b[0m configuring optimizer\t\n"
      ]
     },
     "execution_count": 3,
     "metadata": {},
     "output_type": "execute_result"
    },
    {
     "data": {
      "text/plain": [
       "\u001b[0;34m==>\u001b[0m online epoch # 1 [batchSize = 128]\t\n"
      ]
     },
     "execution_count": 3,
     "metadata": {},
     "output_type": "execute_result"
    },
    {
     "data": {
      "text/plain": [
       "Progress: 1 / 312\t\n"
      ]
     },
     "execution_count": 3,
     "metadata": {},
     "output_type": "execute_result"
    },
    {
     "data": {
      "text/plain": [
       "Progress: 2 / 312\t\n"
      ]
     },
     "execution_count": 3,
     "metadata": {},
     "output_type": "execute_result"
    },
    {
     "data": {
      "text/plain": [
       "Progress: 3 / 312\t\n"
      ]
     },
     "execution_count": 3,
     "metadata": {},
     "output_type": "execute_result"
    },
    {
     "data": {
      "text/plain": [
       "Progress: 4 / 312\t\n"
      ]
     },
     "execution_count": 3,
     "metadata": {},
     "output_type": "execute_result"
    }
   ],
   "source": [
    "-- Train model\n",
    "dofile('master/train.lua')"
   ]
  },
  {
   "cell_type": "code",
   "execution_count": null,
   "metadata": {
    "collapsed": true
   },
   "outputs": [],
   "source": []
  }
 ],
 "metadata": {
  "kernelspec": {
   "display_name": "iTorch",
   "language": "lua",
   "name": "itorch"
  },
  "language_info": {
   "name": "lua",
   "version": "5.1"
  }
 },
 "nbformat": 4,
 "nbformat_minor": 0
}
